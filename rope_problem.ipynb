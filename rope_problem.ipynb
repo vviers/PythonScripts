{
 "cells": [
  {
   "cell_type": "markdown",
   "metadata": {},
   "source": [
    "# Ropes in a Basket problem\n",
    "\n",
    "### Given 100 ropes in a basket. Each time you take randomly two ends and connect them together. How many loops do you expect at the end?\n",
    "\n",
    "\n",
    "This problem has this nice recusive structure:\n",
    "\n",
    "_At each step, given that you are holding an end in your right hand, you have a $\\frac{1}{2n -1}$ chance of picking the other end of the same rope. If you do, that's one more loop! In any case, the problem remains the same except you only have to deal with $n-1$ ropes._\n",
    "\n",
    "Let's denote by $num\\_loops(n)$ the number of loops obtained using $n$ ropes.\n",
    "\n",
    "We have:\n",
    "\n",
    "$$ num\\_loops(1) = 1 $$\n",
    "\n",
    "and \n",
    "\n",
    "$$ num\\_loops(n) = \\begin{cases} 1 + num\\_loops(n-1) &\\mbox{with probability} \\frac{1}{2n -1} \\\\\n",
    "num\\_loops(n-1) &\\mbox{with probability} \\frac{2n-3}{2n -1} \\end{cases} $$\n",
    "\n",
    "So the expected number of loops is:\n",
    "\n",
    "$$E[num\\_loops(n)] = \\frac{1}{2n -1} + E[num\\_loops(n-1)] = \\frac{1}{2n -1} + \\frac{1}{2(n-1) -1} E[num\\_loops(n-2)] = \\dots = \\sum_{i = 1}^n \\frac{1}{2i -1}$$\n",
    "\n",
    "Which for 100 ropes is about 3.28 .\n",
    "\n",
    "\n",
    "### Simulation"
   ]
  },
  {
   "cell_type": "code",
   "execution_count": 7,
   "metadata": {},
   "outputs": [],
   "source": [
    "import matplotlib.pyplot as plt\n",
    "import random\n",
    "%matplotlib inline"
   ]
  },
  {
   "cell_type": "code",
   "execution_count": 4,
   "metadata": {},
   "outputs": [],
   "source": [
    "def num_loops(n):\n",
    "    '''Simulate the ropes problem for a given number of rope n'''\n",
    "    \n",
    "    # only one rope, has to make a loop\n",
    "    if n == 1:\n",
    "        return 1\n",
    "    \n",
    "    # draw a random deviate from Unif[0, 1]\n",
    "    u = random.uniform(0, 1)\n",
    "    \n",
    "    if u < (1 / (2*n - 1)):\n",
    "        return 1 + num_loops(n-1)\n",
    "    else:\n",
    "        return num_loops(n-1)\n",
    "    \n",
    "    \n",
    "# compute the exact average as\n",
    "def exact_expected_val(n):\n",
    "    return sum([1/(2*i - 1) for i in range(1, n+1)])"
   ]
  },
  {
   "cell_type": "code",
   "execution_count": 23,
   "metadata": {},
   "outputs": [
    {
     "data": {
      "text/plain": [
       "(3, 3.2843421893016322)"
      ]
     },
     "execution_count": 23,
     "metadata": {},
     "output_type": "execute_result"
    }
   ],
   "source": [
    "num_loops(100), exact_expected_val(100)"
   ]
  },
  {
   "cell_type": "code",
   "execution_count": 19,
   "metadata": {},
   "outputs": [],
   "source": [
    "# simulate this 5000 times and plot histogram\n",
    "simulations = [num_loops(100) for _ in range(5000)]"
   ]
  },
  {
   "cell_type": "code",
   "execution_count": 21,
   "metadata": {},
   "outputs": [
    {
     "name": "stdout",
     "output_type": "stream",
     "text": [
      "Simulated Average: 3.2882\n",
      "Exact Average: 3.2843421893016322\n"
     ]
    },
    {
     "data": {
      "image/png": "[encoded data removed]",
      "text/plain": [
       "<Figure size 432x288 with 1 Axes>"
      ]
     },
     "metadata": {
      "needs_background": "light"
     },
     "output_type": "display_data"
    }
   ],
   "source": [
    "print(f\"Simulated Average: {sum(simulations)/len(simulations)}\\nExact Average: {exact_expected_val(100)}\")\n",
    "plt.hist(simulations, bins=[i for i in range(20)]);"
   ]
  }
 ],
 "metadata": {
  "kernelspec": {
   "display_name": "Python 3",
   "language": "python",
   "name": "python3"
  },
  "language_info": {
   "codemirror_mode": {
    "name": "ipython",
    "version": 3
   },
   "file_extension": ".py",
   "mimetype": "text/x-python",
   "name": "python",
   "nbconvert_exporter": "python",
   "pygments_lexer": "ipython3",
   "version": "3.7.1"
  }
 },
 "nbformat": 4,
 "nbformat_minor": 2
}
